{
 "cells": [
  {
   "attachments": {},
   "cell_type": "markdown",
   "id": "d8d06541",
   "metadata": {},
   "source": [
    "# Back@TACC – AutoAuto and Python!"
   ]
  },
  {
   "cell_type": "markdown",
   "id": "d87f296b",
   "metadata": {},
   "source": [
    "![title](./BackTACCAlumni/Slide1.png)"
   ]
  },
  {
   "cell_type": "markdown",
   "id": "4a200780",
   "metadata": {},
   "source": [
    "![title](./BackTACCAlumni/Slide2.png)"
   ]
  },
  {
   "cell_type": "markdown",
   "id": "eabafa48",
   "metadata": {},
   "source": [
    "![title](./BackTACCAlumni/Slide3.png)"
   ]
  },
  {
   "cell_type": "markdown",
   "id": "f616d6fe",
   "metadata": {},
   "source": [
    "![title](./BackTACCAlumni/Slide4.png)"
   ]
  },
  {
   "cell_type": "markdown",
   "id": "f8115186",
   "metadata": {},
   "source": [
    "![title](./BackTACCAlumni/Slide5.png)"
   ]
  },
  {
   "cell_type": "markdown",
   "id": "c6889f3c",
   "metadata": {},
   "source": [
    "![title](./BackTACCAlumni/Slide6.png)"
   ]
  },
  {
   "cell_type": "markdown",
   "id": "b223bd2a",
   "metadata": {},
   "source": [
    "![title](./BackTACCAlumni/Slide7.png)"
   ]
  },
  {
   "cell_type": "markdown",
   "id": "fb7fa243",
   "metadata": {},
   "source": [
    "![title](./BackTACCAlumni/Slide8.png)"
   ]
  },
  {
   "cell_type": "markdown",
   "id": "b1246f9c",
   "metadata": {},
   "source": [
    "![title](./BackTACCAlumni/Slide9.png)"
   ]
  },
  {
   "cell_type": "markdown",
   "id": "8ffd70fb",
   "metadata": {},
   "source": [
    "![title](./BackTACCAlumni/Slide10.png)"
   ]
  },
  {
   "cell_type": "markdown",
   "id": "771505de",
   "metadata": {},
   "source": [
    "# Storing data by writing to a file\n",
    "\n",
    "- ### Writing to files is one way for data to \"persist\" after program termination\n",
    "\n",
    "- ### A simple text file can be a persistent storage solution\n",
    "\n",
    "- ### You can use a Jupyter notebook on the AutoAuto vehicle to start writing to files.\n",
    "\n",
    "![Accident data recorder](./BackTACCAlumni/Picture1.jpg)\n",
    "\n",
    "\n",
    "\n",
    "- ### Let's go ahead and walkthrough opening a jupyter notebook.\n",
    "\n",
    "![Open New Jupyter Notebook](./BackTACCAlumni/Screenshot2.png)\n",
    "\n",
    "\n",
    "![Open New Jupyter Notebook](./BackTACCAlumni/Screenshot3.png)\n",
    "\n",
    "\n",
    "![Open New Jupyter Notebook](./BackTACCAlumni/Screenshot4.png)\n",
    "\n",
    "\n",
    "![Open New Jupyter Notebook](./BackTACCAlumni/Screenshot5.png)\n",
    "\n",
    "\n",
    "![Open New Jupyter Notebook](./BackTACCAlumni/Screenshot6.png)"
   ]
  },
  {
   "cell_type": "markdown",
   "id": "1bbfcd9a",
   "metadata": {},
   "source": [
    "## A simple program that stores data from a variable into a text file.\n",
    "\n",
    "I have a list of things that includes milk, cheese, and eggs.\n",
    "\n",
    "I want to be able to write eact item from the list into a file.\n",
    "\n",
    "With Python you can use the `open()` function to 'r'ead, 'a'ppend, 'w'rite, and 'x' create.\n",
    "\n",
    "Python by default will treat files as 't'ext."
   ]
  },
  {
   "cell_type": "markdown",
   "id": "f711da79",
   "metadata": {},
   "source": [
    "![Open New Jupyter Notebook](./BackTACCAlumni/Screenshot1.png)"
   ]
  },
  {
   "cell_type": "code",
   "execution_count": null,
   "id": "b4191631",
   "metadata": {},
   "outputs": [],
   "source": [
    "# name the notebook \"demo\"\n",
    "\n",
    "# I need a list\n",
    "\n",
    "\n",
    "# I want to open a \"data.txt\" file and write into it the things in the list"
   ]
  },
  {
   "cell_type": "markdown",
   "id": "8384193c",
   "metadata": {},
   "source": [
    "<!--\n",
    "\n",
    "things = [\"milk\", \"cheese\", \"eggs\"]   # <-- our VERY valuable data\n",
    "\n",
    "with open(\"data.txt\", \"wt\") as f:\n",
    "    for t in things:\n",
    "        print(\"I need:\", t, file=f)\n",
    "\n",
    "-->"
   ]
  },
  {
   "cell_type": "markdown",
   "id": "accd868a",
   "metadata": {},
   "source": [
    "## Challenge\n",
    "\n",
    "Create a file named numbers.txt and write to it the integers 1 to 10000, one integer per line in the file."
   ]
  },
  {
   "cell_type": "code",
   "execution_count": null,
   "id": "62383e14",
   "metadata": {},
   "outputs": [],
   "source": [
    "# add a new cell below your previous code\n",
    "\n",
    "# use open to create a file named numbers.txt\n",
    "# then use a loop to write the intergers 1 through 10000\n",
    "\n"
   ]
  },
  {
   "cell_type": "markdown",
   "id": "f6b650b9",
   "metadata": {},
   "source": [
    "<!--\n",
    "\n",
    "with open(\"numbers.txt\", \"wt\") as f:\n",
    "    for i in range(10000):\n",
    "        print(i+1, file=f)\n",
    "\n",
    "-->"
   ]
  },
  {
   "cell_type": "markdown",
   "id": "858ddf47",
   "metadata": {},
   "source": [
    "# Collecting data by reading it from a file\n",
    "\n",
    "For this example we need to open a terminal and use it to download a file containing over 370000 English words. \n",
    "\n",
    "We can then use code to do some text analysis on the words.\n",
    "\n",
    "![Open a terminal](./BackTACCAlumni/Screenshot7.png)\n",
    "![Open a terminal](./BackTACCAlumni/Screenshot8.png)\n",
    "![Open a terminal](./BackTACCAlumni/Screenshot9.png)"
   ]
  },
  {
   "cell_type": "markdown",
   "id": "2970775a",
   "metadata": {},
   "source": [
    "## create a new jupyter notebook and name it words exploration\n"
   ]
  },
  {
   "cell_type": "code",
   "execution_count": null,
   "id": "bfc9362f",
   "metadata": {},
   "outputs": [],
   "source": [
    "# I need to open the words_alpha.txt file to read each word and save it to a list\n",
    "\n",
    "# first I need an empty list\n",
    "\n",
    "# second I need to open the file and 'r'ead it\n",
    "# I can use a loop to read each word and append it to the end of the list\n",
    "\n",
    "\n",
    "#lastly I would like to print the length of the list which will tell me who many words were in the file\n"
   ]
  },
  {
   "cell_type": "markdown",
   "id": "450f149c",
   "metadata": {},
   "source": [
    "<!--\n",
    "\n",
    "words = []\n",
    "\n",
    "with open(\"./words_alpha.txt\", \"rt\") as f:\n",
    "    for word in f:\n",
    "        words.append(word)\n",
    "\n",
    "print(\"There are\", len(words), \"words.\")\n",
    "\n",
    "-->"
   ]
  },
  {
   "cell_type": "markdown",
   "id": "3319db96",
   "metadata": {},
   "source": [
    "## Let's use the power of the AutoAuto vehicle to conduct some text analysis\n",
    "\n",
    "### Question 1: How many words begin with “cat”?"
   ]
  },
  {
   "cell_type": "code",
   "execution_count": null,
   "id": "610e9254",
   "metadata": {},
   "outputs": [],
   "source": [
    "# I need a way to keep count of the number of \"cat\" words\n",
    "\n",
    "\n",
    "# A loop makes sense to move through a list and look at each item\n",
    "# Using a conditional statement will help me check each word if it begins with \"cat\"\n",
    "\n",
    "\n",
    "#Now I can print how many words start with \"cat\""
   ]
  },
  {
   "cell_type": "markdown",
   "id": "ce12bdc4",
   "metadata": {},
   "source": [
    "<!--\n",
    "\n",
    "num_word = 0\n",
    "\n",
    "for word in words:\n",
    "    if word.startswith('cat'):\n",
    "        num_word += 1\n",
    "        \n",
    "print(num_word)\n",
    "\n",
    "-->"
   ]
  },
  {
   "cell_type": "markdown",
   "id": "0d9cc6d2",
   "metadata": {},
   "source": [
    "### Question 2: Are there any words that contain both “cat” and “dog”?"
   ]
  },
  {
   "cell_type": "code",
   "execution_count": null,
   "id": "5398e4ab",
   "metadata": {},
   "outputs": [],
   "source": [
    "# A loop can help to move through the list to check which words have both \"cat\" and \"dog\" in them\n",
    "# We can answer this questions by just printing the words that meet the criteria\n",
    "\n"
   ]
  },
  {
   "cell_type": "markdown",
   "id": "73536ad5",
   "metadata": {},
   "source": [
    "<!-- \n",
    "\n",
    "for word in words:\n",
    "    if 'cat' in word and 'dog' in word:\n",
    "        print(word)\n",
    "\n",
    "-->"
   ]
  },
  {
   "cell_type": "markdown",
   "id": "06be298d",
   "metadata": {},
   "source": [
    "### Question 3: What is the longest word that starts with “cat”?"
   ]
  },
  {
   "cell_type": "code",
   "execution_count": null,
   "id": "bd358955",
   "metadata": {},
   "outputs": [],
   "source": [
    "# I need a variable to hold the longest word\n",
    "\n",
    "# a loop can help to look through the list\n",
    "# using a conditional to check if the current word meets the criteria\n",
    "# we can then check to see if the word is longer than the current variable longest"
   ]
  },
  {
   "cell_type": "markdown",
   "id": "154e3379",
   "metadata": {},
   "source": [
    "<!--\n",
    "\n",
    "longest = ''\n",
    "\n",
    "for word in words:\n",
    "    if word.startswith('cat'):\n",
    "        if len(word) > len(longest):\n",
    "            longest = word\n",
    "            \n",
    "print(longest, len(longest))\n",
    "\n",
    "-->"
   ]
  },
  {
   "cell_type": "markdown",
   "id": "84077cf4",
   "metadata": {},
   "source": [
    "# AutoAuto Blackbox\n",
    "\n",
    "## Using CSV files to store data\n",
    "\n",
    "### CSV = Comma-Seperated Values\n",
    "\n",
    "- ### human readable\n",
    "- ### accessable by every programming language\n",
    "- ### Excel can also read Python created CSV files\n",
    "\n",
    "Next we will start creating the accident data recorders (ADR), or blackbox, for your AutoAuto vehicles. \n",
    "\n",
    "An ADR is a device that records sensors data to make sure to capture significant events, like a car crash.\n",
    "\n",
    "The ADR can be used by insurance companies, and law enforcement, to analyze the sensor data.\n",
    "\n",
    "Let's create a simple program to write to CSV files with Python:"
   ]
  },
  {
   "cell_type": "markdown",
   "id": "ff6560f7",
   "metadata": {},
   "source": [
    "```python\n",
    "\n",
    "import csv #module that helps read and write csv files\n",
    "from random import randint #module to create random integers\n",
    "\n",
    "# use the open() function with write permissions\n",
    "with open(\"data.csv\", \"wt\") as f:\n",
    "    f_csv = csv.writer(f) #method that allows to write to the csv file\n",
    "    f_csv.writerow(['x', 'y', 'z'])   # <-- The header row; writes the names of the columns in the first row.\n",
    "\n",
    "    for i in range(100): #loop to write 100 rows of 3 random numbers\n",
    "        x, y, z = randint(1, 9), randint(1, 9), randint(1, 9)\n",
    "        f_csv.writerow([x, y, z])\n",
    "\n",
    "        ```"
   ]
  },
  {
   "cell_type": "markdown",
   "id": "bebd258a",
   "metadata": {},
   "source": [
    "### On an AutoAuto device, we can create a “black box” program to store gyroscope and accelerometer data using the previous code as a starting point:"
   ]
  },
  {
   "cell_type": "code",
   "execution_count": null,
   "id": "f1e39668",
   "metadata": {},
   "outputs": [],
   "source": [
    "import csv\n",
    "from auto.capabilities import acquire\n",
    "\n",
    "# we need two variable to capture data from they gyroscope and accelerometer\n",
    "\n",
    "\n",
    "# use an open() function to open a 'black_box.csv' file and write a header row\n",
    "\n",
    "\n",
    "# need a variable to keep count of data points\n",
    "\n",
    "\n",
    "# use an infinite loop to read the data and write into the csv file and increment the data count\n",
    "\n",
    "\n",
    "\n",
    "# use exception handling to create a user created stop, basically try something until I tell you to stop\n"
   ]
  },
  {
   "cell_type": "markdown",
   "id": "1c798b99",
   "metadata": {},
   "source": [
    "<!--\n",
    "\n",
    "import csv\n",
    "from auto.capabilities import acquire\n",
    "\n",
    "gyro = acquire('Gyroscope')\n",
    "accel = acquire('Accelerometer')\n",
    "\n",
    "with open(\"black_box.csv\", \"wt\") as f:\n",
    "    f_csv = csv.writer(f)\n",
    "    f_csv.writerow(['gx', 'gy', 'gz', 'ax', 'ay', 'az'])   # <-- The header row.\n",
    "\n",
    "    n_data = 0\n",
    "\n",
    "    try:\n",
    "        while True:\n",
    "            gx, gy, gz = gyro.read()\n",
    "            ax, ay, az = accel.read()\n",
    "            f_csv.writerow([gx, gy, gz, ax, ay, az])\n",
    "            n_data += 1\n",
    "\n",
    "    except KeyboardInterrupt:\n",
    "        print(\"Collected {} data points.\".format(n_data))\n",
    "\n",
    "-->"
   ]
  },
  {
   "cell_type": "markdown",
   "id": "f82e06b8",
   "metadata": {},
   "source": [
    "# Load and visualize data\n",
    "\n",
    "### We can use two specific python libraries to do exploratory data analysis (EDA).\n",
    "\n",
    "- ### Matplotlib is a comprehensive library for creating static, animated, and interactive visualizations in Python.\n",
    "\n",
    "- ### pandas is a fast, powerful, flexible and easy to use open source data analysis and manipulation tool, built on top of the Python programming language. "
   ]
  },
  {
   "cell_type": "code",
   "execution_count": null,
   "id": "0cf8fccb",
   "metadata": {},
   "outputs": [],
   "source": [
    "import matplotlib.pyplot as plt\n",
    "import pandas as pd\n",
    "\n",
    "#lets tell pandas to read data from the csv file and save it into a variable\n",
    "black_box = pd.read_csv(\"black_box.csv\")"
   ]
  },
  {
   "cell_type": "code",
   "execution_count": null,
   "id": "043a30bb",
   "metadata": {},
   "outputs": [],
   "source": [
    "#lets look at the first 5 rows and last 5 rows\n",
    "black_box.head()\n",
    "\n",
    "black_box.tail()"
   ]
  },
  {
   "cell_type": "code",
   "execution_count": null,
   "id": "21321cfa",
   "metadata": {},
   "outputs": [],
   "source": [
    "#now what we just saw look like a simple excel sheet but let's see what it looks like plotted on a graph\n",
    "\n",
    "#plot the first column\n",
    "black_box.gx.plot()\n",
    "\n",
    "#plot the fourth column\n",
    "black_box.ax.plot()"
   ]
  },
  {
   "cell_type": "markdown",
   "id": "8357735f",
   "metadata": {},
   "source": [
    "# Modifying the Blackbox code to drive the car\n",
    "\n",
    "We’ll modify our “black box” data recorder so that we drive the car forward while collecting data. This will allow us to involve our AutoAuto cars in a low speed traffic accident. We will later analyze the data collected in the accident to reconstruct the scene.\n",
    "\n",
    "Here is the modified script. Your task in this part is to run the following code in Jupyter on your car, and be sure you understand it before moving on. The video describes the code."
   ]
  },
  {
   "cell_type": "code",
   "execution_count": null,
   "id": "95fca45c",
   "metadata": {},
   "outputs": [],
   "source": [
    "import csv #\n",
    "from datetime import datetime\n",
    "\n",
    "from auto.capabilities import acquire\n",
    "from car.motors import set_steering, set_throttle, safe_forward_throttle\n",
    "\n",
    "safe_throttle = safe_forward_throttle()\n",
    "\n",
    "gyro = acquire('Gyroscope')\n",
    "accel = acquire('Accelerometer')\n",
    "\n",
    "#we use datetime to get today's date and time\n",
    "start_time = datetime.now().strftime(\"%Y-%m-%d_%H-%M-%S\")\n",
    "\n",
    "#we use the following to create a filename with today's date and time\n",
    "filename = \"black_box__{}.csv\".format(start_time)\n",
    "\n",
    "#use open() to access the csv file write a data header\n",
    "with open(filename, \"wt\") as f:\n",
    "    f_csv = csv.writer(f)\n",
    "    f_csv.writerow(['time', 'gx', 'gy', 'gz', 'ax', 'ay', 'az'])   # <-- The header row.\n",
    "\n",
    "    # data point counter\n",
    "    n_data = 0\n",
    "\n",
    "    #for loop to have the gyro and accel read from the sensors and written to the file while the car is moving in a predetermined manner\n",
    "    for i in range(200):\n",
    "        gx, gy, gz = gyro.read()\n",
    "        ax, ay, az = accel.read()\n",
    "        f_csv.writerow([datetime.now(), gx, gy, gz, ax, ay, az])\n",
    "        n_data += 1\n",
    "        set_steering(0.0)\n",
    "        if 50 < i < 150:\n",
    "            set_throttle(safe_throttle)\n",
    "        else:\n",
    "            set_throttle(0)\n",
    "\n",
    "    print(\"Collected {} data points.\".format(n_data))"
   ]
  },
  {
   "cell_type": "markdown",
   "id": "4c289eb0",
   "metadata": {},
   "source": [
    "# Record a Traffic Accident\n",
    "\n",
    "For this part, we will use the modified “black box” script and we will engage in a traffic accident using two AutoAuto cars. There are several things that need to happen for this to be successful:\n",
    "\n",
    "1. Partner with another group so that you have access to two AutoAuto cars.\n",
    "2. Prepare each car to run the modified “black box” script from the previous section.\n",
    "3. Prepare to record a video of the accident with a smartphone.\n",
    "4. Position the cars such that they will collide when the programs are executed.\n",
    "5. Start the “black box” program on each car and begin video recording the accident on your phone. Try to start the two programs and begin recording the video AT THE SAME TIME. This will help tremendously when doing the reconstruction analysis.\n",
    "6. If the accident went as planned (i.e. the cars collided), you may move to the next step. Otherwise, return to step 2 and try again.\n",
    "7. You can use Jupyter to retrieve the “black_box_…csv” file from each car.\n",
    "\n",
    "### WARNING:\n",
    "\n",
    "This lesson should be done cautiously to avoid damage to your AutoAuto car and to avoid harm to anyone else involved. The AutoAuto \n",
    "cars are built to withstand low-impact collisions. Do not increase the throttle value past the “safe” speed during this exercise.\n",
    "\n",
    "### Downloading and Sharing Files\n",
    "\n",
    "Select your \"black_box.csv\" files from both cars after you have conducted your traffic incidents and download it to the provide USB drive.\n",
    "\n",
    "### Reminder about the car's x, y, z, orientation...\n",
    "\n",
    "![x, y axis](./BackTACCAlumni/x_y_axis.png)\n",
    "\n",
    "![z axis](./BackTACCAlumni/z_axis.png)\n",
    "\n",
    "### Reconstruct A Crash You Did Not See\n",
    "\n",
    "Pick another team to reconstruct your accident. Do not tell them what happened in your crash. Instead, only provide them with the USB drive. Have them copy your data files and attempt to reconstruct your crash.\n",
    "\n",
    "Similarly, you will copy their data files to reconstruct their crash.\n",
    "\n",
    "Hint: You can use this [notebook](https://github.com/AutoAutoAI/Curriculum/blob/master/Traffic-Accident-Reconstruction/Traffic%20Accident%20Reconstruction.ipynb) as a guide for how to perform your analysis.\n",
    "\n",
    "### Present your Theories\n",
    "\n",
    "In the last 30 minutes of the class, every team should present their theories about what happened in the “unseen crash” for which they have data. After each presentation, the “truth” can be revealed (using the smartphone video). A small discussion can ensue about which elements the team was correct about, and which elements they were incorrect about.\n"
   ]
  },
  {
   "cell_type": "code",
   "execution_count": null,
   "id": "c2a65873",
   "metadata": {},
   "outputs": [],
   "source": []
  }
 ],
 "metadata": {
  "kernelspec": {
   "display_name": "Python 3 (ipykernel)",
   "language": "python",
   "name": "python3"
  },
  "language_info": {
   "codemirror_mode": {
    "name": "ipython",
    "version": 3
   },
   "file_extension": ".py",
   "mimetype": "text/x-python",
   "name": "python",
   "nbconvert_exporter": "python",
   "pygments_lexer": "ipython3",
   "version": "3.10.10"
  }
 },
 "nbformat": 4,
 "nbformat_minor": 5
}
